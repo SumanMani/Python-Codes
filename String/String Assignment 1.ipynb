{
 "cells": [
  {
   "cell_type": "markdown",
   "id": "2684eac6",
   "metadata": {},
   "source": [
    "  Q1.Write a program to reverse the string."
   ]
  },
  {
   "cell_type": "code",
   "execution_count": 1,
   "id": "b649efa5",
   "metadata": {},
   "outputs": [
    {
     "name": "stdout",
     "output_type": "stream",
     "text": [
      "Hello how are you ?\n",
      "? uoy era woh olleH\n"
     ]
    }
   ],
   "source": [
    "a='Hello how are you ?'\n",
    "b=a[::-1]\n",
    "print(a)\n",
    "print(b)"
   ]
  },
  {
   "cell_type": "markdown",
   "id": "22e019a6",
   "metadata": {},
   "source": [
    "  Q2.Write a program to chek whether a given string is palindrome or not ? "
   ]
  },
  {
   "cell_type": "code",
   "execution_count": 1,
   "id": "87983cbf",
   "metadata": {},
   "outputs": [
    {
     "name": "stdout",
     "output_type": "stream",
     "text": [
      "Enter a word = abcddcba\n",
      "Given string is palindrome\n"
     ]
    }
   ],
   "source": [
    "n=input('Enter a word = ')\n",
    "m=n[::-1]\n",
    "if n==m:\n",
    "    print('Given string is palindrome')\n",
    "else :\n",
    "    print('Given string is not a palindrome')"
   ]
  },
  {
   "cell_type": "markdown",
   "id": "d58636ba",
   "metadata": {},
   "source": [
    "  Q3.Write a program to print length of string without using len() function ?"
   ]
  },
  {
   "cell_type": "code",
   "execution_count": 2,
   "id": "82ed0942",
   "metadata": {},
   "outputs": [
    {
     "name": "stdout",
     "output_type": "stream",
     "text": [
      "Enter your stringHi How Are You\n",
      "length of string is :  14\n"
     ]
    }
   ],
   "source": [
    "n=input('Enter your string')\n",
    "count=0\n",
    "while n[count:]:\n",
    "    count+=1\n",
    "print('length of string is : ',count)    "
   ]
  },
  {
   "cell_type": "markdown",
   "id": "749a1876",
   "metadata": {},
   "source": [
    "  Q4.Write a program to find length of a string ?"
   ]
  },
  {
   "cell_type": "code",
   "execution_count": 4,
   "id": "690307ab",
   "metadata": {},
   "outputs": [
    {
     "name": "stdout",
     "output_type": "stream",
     "text": [
      "Enter your stringHello World\n",
      "11\n"
     ]
    }
   ],
   "source": [
    "n=input('Enter your string')\n",
    "print(len(n))"
   ]
  },
  {
   "cell_type": "markdown",
   "id": "a3b34977",
   "metadata": {},
   "source": [
    "  Q5.Write a program to print only number of characters in a string ?"
   ]
  },
  {
   "cell_type": "code",
   "execution_count": 3,
   "id": "736f6c3e",
   "metadata": {},
   "outputs": [
    {
     "name": "stdout",
     "output_type": "stream",
     "text": [
      "Enter your string =Hello World\n",
      "no.of characters in string = 10\n"
     ]
    }
   ],
   "source": [
    "n=input('Enter your string =')\n",
    "i = 0\n",
    "count = 0\n",
    "while i<len(n):\n",
    "    if n[i].isalpha()==True:\n",
    "        count += 1\n",
    "    i += 1\n",
    "print('no.of characters in string =',count)        "
   ]
  },
  {
   "cell_type": "markdown",
   "id": "09b733d3",
   "metadata": {},
   "source": [
    "  Q6.Write a program to take input from users and print it in upper and lower case ?"
   ]
  },
  {
   "cell_type": "code",
   "execution_count": 1,
   "id": "b366e297",
   "metadata": {},
   "outputs": [
    {
     "name": "stdout",
     "output_type": "stream",
     "text": [
      "Enter your string = Hi How Are You?\n",
      "Converting string to UPPER case :  HI HOW ARE YOU?\n",
      "Converting string to lower case :  hi how are you?\n"
     ]
    }
   ],
   "source": [
    "n=input('Enter your string = ')\n",
    "print('Converting string to UPPER case : ',n.upper())\n",
    "print('Converting string to lower case : ',n.lower())\n"
   ]
  },
  {
   "cell_type": "code",
   "execution_count": null,
   "id": "3f2f11bc",
   "metadata": {},
   "outputs": [
    {
     "name": "stdout",
     "output_type": "stream",
     "text": [
      "Enter your string =Hello World\n"
     ]
    }
   ],
   "source": [
    "n=input('Enter your string =')\n",
    "i = 0\n",
    "count = 0\n",
    "while i<len(n):\n",
    "    if n[i].isalpha()==True:\n",
    "        count += 1\n",
    "        i += 1\n",
    "print('no.of characters in string =',count)        "
   ]
  }
 ],
 "metadata": {
  "kernelspec": {
   "display_name": "Python 3 (ipykernel)",
   "language": "python",
   "name": "python3"
  },
  "language_info": {
   "codemirror_mode": {
    "name": "ipython",
    "version": 3
   },
   "file_extension": ".py",
   "mimetype": "text/x-python",
   "name": "python",
   "nbconvert_exporter": "python",
   "pygments_lexer": "ipython3",
   "version": "3.9.12"
  }
 },
 "nbformat": 4,
 "nbformat_minor": 5
}
