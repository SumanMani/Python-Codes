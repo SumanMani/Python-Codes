{
 "cells": [
  {
   "cell_type": "markdown",
   "id": "4be6e4be",
   "metadata": {},
   "source": [
    "Program to enter a number between (1-12) and print the respective month"
   ]
  },
  {
   "cell_type": "code",
   "execution_count": 1,
   "id": "65f7e365",
   "metadata": {},
   "outputs": [
    {
     "name": "stdout",
     "output_type": "stream",
     "text": [
      "Enter any number from 1-12 = 11\n",
      "Nov\n"
     ]
    }
   ],
   "source": [
    "n=int(input('Enter any number from 1-12 = '))\n",
    "if n==1:\n",
    "    print('Jan')\n",
    "elif n==2:\n",
    "    print('Feb')\n",
    "elif n==3:\n",
    "    print('Mar')\n",
    "elif n==4:\n",
    "    print('Apr')\n",
    "elif n==5:\n",
    "    print('May')\n",
    "elif n==6:\n",
    "    print('jun')\n",
    "elif n==7:\n",
    "    print('July')\n",
    "elif n==8:\n",
    "    print('Aug')\n",
    "elif n==9:\n",
    "    print('Sep')\n",
    "elif n==10:\n",
    "    print('Oct')\n",
    "elif n==11:\n",
    "    print('Nov')\n",
    "elif n==12:\n",
    "    print('Dec')\n",
    "else:\n",
    "    print('Wrong Input')"
   ]
  },
  {
   "cell_type": "markdown",
   "id": "f5515c34",
   "metadata": {},
   "source": [
    " Menu driven program to perform basic operations"
   ]
  },
  {
   "cell_type": "code",
   "execution_count": 2,
   "id": "d1f47da4",
   "metadata": {},
   "outputs": [
    {
     "name": "stdout",
     "output_type": "stream",
     "text": [
      "Menu:\n",
      " 1.Addition\n",
      " 2.Subtraction\n",
      " 3.Multiplication\n",
      " 4.Division\n",
      "enter the menu option:3\n",
      "enter first num:2\n",
      "enter second num:3\n",
      "Multiplication = 6\n"
     ]
    }
   ],
   "source": [
    "print(\"Menu:\\n 1.Addition\\n 2.Subtraction\\n 3.Multiplication\\n 4.Division\")\n",
    "opt =int(input(\"enter the menu option:\"))\n",
    "a = int(input('enter first num:'))\n",
    "b = int(input('enter second num:'))\n",
    "if opt==1:\n",
    "    add = a+b\n",
    "    print(\"Addition =\", add)\n",
    "elif opt==2:\n",
    "    sub = a-b\n",
    "    print(\"Substraction =\", sub)\n",
    "elif opt==3:\n",
    "    mul = a*b\n",
    "    print(\"Multiplication =\",mul)\n",
    "elif opt==4:\n",
    "    div = a/b\n",
    "    print(\"Division =\",div)\n",
    "else:\n",
    "    print(\"Wrong menu option\")"
   ]
  },
  {
   "cell_type": "markdown",
   "id": "8d04eb5a",
   "metadata": {},
   "source": [
    "Program to convert temprature to and from celsius,Fahrenheit"
   ]
  },
  {
   "cell_type": "code",
   "execution_count": 3,
   "id": "f7273839",
   "metadata": {},
   "outputs": [
    {
     "name": "stdout",
     "output_type": "stream",
     "text": [
      "Menu:\n",
      " 1.Celsius 2.Fahrenheit\n",
      "enter menu option:1\n",
      "enter temp in Fahrenheit:175\n",
      "Temprature in Celsius = 347.0\n"
     ]
    }
   ],
   "source": [
    "print('Menu:\\n 1.Celsius 2.Fahrenheit')\n",
    "n = int(input('enter menu option:'))\n",
    "if n==1:\n",
    "    temp = int(input('enter temp in Fahrenheit:'))\n",
    "    conv = (temp*(9/5))+32\n",
    "    print(\"Temprature in Celsius =\",conv)\n",
    "elif n==2:\n",
    "    temp = int(input('enter temp in Celsius:'))\n",
    "    conv = (temp-32)*(5/9)\n",
    "    print(\"Temprature in Fahrenheit =\",conv)\n",
    "else:\n",
    "    print(\"Wrong input\")"
   ]
  }
 ],
 "metadata": {
  "kernelspec": {
   "display_name": "Python 3 (ipykernel)",
   "language": "python",
   "name": "python3"
  },
  "language_info": {
   "codemirror_mode": {
    "name": "ipython",
    "version": 3
   },
   "file_extension": ".py",
   "mimetype": "text/x-python",
   "name": "python",
   "nbconvert_exporter": "python",
   "pygments_lexer": "ipython3",
   "version": "3.9.12"
  }
 },
 "nbformat": 4,
 "nbformat_minor": 5
}
