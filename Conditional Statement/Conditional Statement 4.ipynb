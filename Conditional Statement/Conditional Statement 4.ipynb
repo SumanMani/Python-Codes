{
 "cells": [
  {
   "cell_type": "markdown",
   "id": "5cdd81cc",
   "metadata": {},
   "source": [
    "  Q1. A Company decided to give bonus of 5% to employee if his/her year of service is more than 5 years.Ask user for \n",
    "      their salary and year of service and print the net bonus amount ?"
   ]
  },
  {
   "cell_type": "code",
   "execution_count": 1,
   "id": "61fd5918",
   "metadata": {},
   "outputs": [
    {
     "name": "stdout",
     "output_type": "stream",
     "text": [
      "enter salary of employee:15000\n",
      "enter no.of years of service:5\n",
      "net bonus amount = 0\n"
     ]
    }
   ],
   "source": [
    "bas_sal = int(input('enter salary of employee:'))\n",
    "year = int(input('enter no.of years of service:'))\n",
    "if year>5:\n",
    "    bonus = bas_sal*0.05\n",
    "else:\n",
    "    bonus = 0\n",
    "print('net bonus amount =', bonus)    "
   ]
  },
  {
   "cell_type": "markdown",
   "id": "fa2f411d",
   "metadata": {},
   "source": [
    "  Q2.Write a program to take input of length and breadth of a rectangle from user and check if it is square or not ?"
   ]
  },
  {
   "cell_type": "code",
   "execution_count": 2,
   "id": "cafc383b",
   "metadata": {},
   "outputs": [
    {
     "name": "stdout",
     "output_type": "stream",
     "text": [
      "enter length of rectangle:8\n",
      "enter breadth of rectangle:6\n",
      "It is not a square\n"
     ]
    }
   ],
   "source": [
    "l = int(input('enter length of rectangle:'))\n",
    "b = int(input('enter breadth of rectangle:'))\n",
    "if l==b:\n",
    "    print(\"It is a square\")\n",
    "else:\n",
    "    print(\"It is not a square\")"
   ]
  },
  {
   "cell_type": "markdown",
   "id": "7aaea301",
   "metadata": {},
   "source": [
    "  Q3.Take input of age of 3 people by user and determine oldest and youngest amonng them ?"
   ]
  },
  {
   "cell_type": "code",
   "execution_count": 3,
   "id": "976cc5f9",
   "metadata": {},
   "outputs": [
    {
     "name": "stdout",
     "output_type": "stream",
     "text": [
      "enter age of first person:23\n",
      "enter age of second person52\n",
      "enter age of third person8\n",
      "second person is oldset\n",
      "third person is youngest\n"
     ]
    }
   ],
   "source": [
    "n1 = int(input('enter age of first person:'))\n",
    "n2 = int(input('enter age of second person'))\n",
    "n3 = int(input('enter age of third person'))\n",
    "if (n1>n2) and n1>n3:\n",
    "    print(\"first person is oldset\")\n",
    "elif (n2>n1 and n2>n3):\n",
    "    print(\"second person is oldset\")\n",
    "else:\n",
    "    print(\"third person is oldset\")\n",
    "if (n1<n2 and n1<n3):\n",
    "    print(\"first person is youngest\")\n",
    "elif (n2<n1 and n2<n3):\n",
    "    print(\"second person is youngest\")\n",
    "else:\n",
    "    print(\"third person is youngest\")\n",
    "    "
   ]
  }
 ],
 "metadata": {
  "kernelspec": {
   "display_name": "Python 3 (ipykernel)",
   "language": "python",
   "name": "python3"
  },
  "language_info": {
   "codemirror_mode": {
    "name": "ipython",
    "version": 3
   },
   "file_extension": ".py",
   "mimetype": "text/x-python",
   "name": "python",
   "nbconvert_exporter": "python",
   "pygments_lexer": "ipython3",
   "version": "3.9.12"
  }
 },
 "nbformat": 4,
 "nbformat_minor": 5
}
