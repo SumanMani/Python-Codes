{
 "cells": [
  {
   "cell_type": "markdown",
   "id": "b5b4accd",
   "metadata": {},
   "source": [
    " Q1. Write a program to enter two numbers and print the greatest number ?"
   ]
  },
  {
   "cell_type": "code",
   "execution_count": 1,
   "id": "492e19f8",
   "metadata": {},
   "outputs": [
    {
     "name": "stdout",
     "output_type": "stream",
     "text": [
      "Enter first num = 7\n",
      "Enter second num =8\n",
      "Greatest number is :  8\n"
     ]
    }
   ],
   "source": [
    "n = int(input('Enter first num = '))\n",
    "m = int(input('Enter second num ='))\n",
    "print('Greatest number is : ',max(m,n))"
   ]
  },
  {
   "cell_type": "code",
   "execution_count": 3,
   "id": "ffb5eb15",
   "metadata": {},
   "outputs": [
    {
     "name": "stdout",
     "output_type": "stream",
     "text": [
      "Enter first num = 4\n",
      "Enter second num = 5\n",
      "Smallest number is :  4\n"
     ]
    }
   ],
   "source": [
    "n = int(input('Enter first num = '))\n",
    "m = int(input('Enter second num = '))\n",
    "print('Smallest number is : ',min(m,n))"
   ]
  },
  {
   "cell_type": "markdown",
   "id": "4e950aa3",
   "metadata": {},
   "source": [
    "  Q2. Write a programe to enter two numbers and print the smallest number ?"
   ]
  },
  {
   "cell_type": "code",
   "execution_count": 2,
   "id": "ffce8d9f",
   "metadata": {},
   "outputs": [
    {
     "name": "stdout",
     "output_type": "stream",
     "text": [
      "Enter first num = 4\n",
      "Enter second num =5\n",
      "First num is Smallest :  4\n"
     ]
    }
   ],
   "source": [
    "n = int(input('Enter first num = '))\n",
    "m = int(input('Enter second num ='))\n",
    "if n<m:\n",
    "    print('First num is Smallest : ',n)\n",
    "elif n>m:\n",
    "    print('Second num is Smallest : ',m)\n",
    "else :\n",
    "    print ('Both num are equal')"
   ]
  },
  {
   "cell_type": "markdown",
   "id": "2fe1fb93",
   "metadata": {},
   "source": [
    "  Q3. Write a programe to enter three numbers and print the greatest number ?"
   ]
  },
  {
   "cell_type": "code",
   "execution_count": 4,
   "id": "645815d8",
   "metadata": {},
   "outputs": [
    {
     "name": "stdout",
     "output_type": "stream",
     "text": [
      "Enter first num = 4\n",
      "Enter second num = 5\n",
      "Enter third num = 6\n",
      "Third num is Greatest : 6\n"
     ]
    }
   ],
   "source": [
    "l = int(input('Enter first num = '))\n",
    "m = int(input('Enter second num = '))\n",
    "o = int(input('Enter third num = '))\n",
    "if l>m and l>o:\n",
    "    print('First num is Greatest : ',l)\n",
    "elif m>l and m>o:\n",
    "    print('Second num is Greatest :',m)\n",
    "elif o>l and o>m:\n",
    "    print('Third num is Greatest :',o)\n",
    "else :\n",
    "    print('All numbers are equal')"
   ]
  },
  {
   "cell_type": "markdown",
   "id": "a7b3d54d",
   "metadata": {},
   "source": [
    "  Q4. Write a program to enter three numbers and print the smallest numbers ?"
   ]
  },
  {
   "cell_type": "code",
   "execution_count": 1,
   "id": "b422deac",
   "metadata": {},
   "outputs": [
    {
     "name": "stdout",
     "output_type": "stream",
     "text": [
      "Enter  first num = 5\n",
      "Enter second num = 4\n",
      "Enter third num = 7\n",
      "Second num is Smallest : 4\n"
     ]
    }
   ],
   "source": [
    "l=int(input('Enter  first num = '))\n",
    "m=int(input('Enter second num = '))\n",
    "o=int(input('Enter third num = '))\n",
    "if l<m and l<o:\n",
    "    print('First num is Smallest : ',l)\n",
    "elif m<l and m<o:\n",
    "    print('Second num is Smallest :',m)\n",
    "elif o<l and o<m:\n",
    "    print('Third num is Smallest :',o)\n",
    "else :\n",
    "    print('All numbers are equal')"
   ]
  },
  {
   "cell_type": "markdown",
   "id": "86346be8",
   "metadata": {},
   "source": [
    "  Q5. Write a program to calculate the roots of quadratic equation ?"
   ]
  },
  {
   "cell_type": "code",
   "execution_count": 5,
   "id": "5a7be182",
   "metadata": {},
   "outputs": [
    {
     "name": "stdout",
     "output_type": "stream",
     "text": [
      "Enter value of a = 2\n",
      "Enter value of b = 5\n",
      "Enter value of c = 8\n",
      "Roots of quadratic equation is\n",
      "  (-1.25+1.5612494995995996j)  \n",
      " (-1.25+1.5612494995995996j)\n"
     ]
    }
   ],
   "source": [
    "a=int(input(\"Enter value of a = \"))\n",
    "b=int(input(\"Enter value of b = \"))\n",
    "c=int(input(\"Enter value of c = \"))\n",
    "r1 = (-b+((b**2)-4*a*c)**0.5)/(2*a)\n",
    "r2 = (-b+((b**2)-4*a*c)**0.5)/(2*a)\n",
    "print(\"Roots of quadratic equation is\\n \",r1,' \\n',r2)"
   ]
  },
  {
   "cell_type": "markdown",
   "id": "93b0541f",
   "metadata": {},
   "source": [
    "  Q6. Write a program to enter a number between (1-7) and print the respective day of the week ?"
   ]
  },
  {
   "cell_type": "code",
   "execution_count": 2,
   "id": "984634db",
   "metadata": {},
   "outputs": [
    {
     "name": "stdout",
     "output_type": "stream",
     "text": [
      "Enter number from 1-7 = 4\n",
      "Thursday\n"
     ]
    }
   ],
   "source": [
    "n=int(input('Enter number from 1-7 = '))\n",
    "if n==1:\n",
    "    print('Monday')\n",
    "elif n==2:\n",
    "    print('Tuesday')\n",
    "elif n==3:\n",
    "    print('Wednesday')\n",
    "elif n==4:\n",
    "    print('Thursday')\n",
    "elif n==5:\n",
    "    print('Friday')\n",
    "elif n==6:\n",
    "    print('Saturday')\n",
    "elif n==7:\n",
    "    print('Sunday')\n",
    "else:\n",
    "    print('Wrong input')"
   ]
  }
 ],
 "metadata": {
  "kernelspec": {
   "display_name": "Python 3 (ipykernel)",
   "language": "python",
   "name": "python3"
  },
  "language_info": {
   "codemirror_mode": {
    "name": "ipython",
    "version": 3
   },
   "file_extension": ".py",
   "mimetype": "text/x-python",
   "name": "python",
   "nbconvert_exporter": "python",
   "pygments_lexer": "ipython3",
   "version": "3.9.12"
  }
 },
 "nbformat": 4,
 "nbformat_minor": 5
}
