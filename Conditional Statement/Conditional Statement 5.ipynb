{
 "cells": [
  {
   "cell_type": "markdown",
   "id": "352613fe",
   "metadata": {},
   "source": [
    "A school has following rules for grading system:\n",
    "a.Below 25-F\n",
    "b.25 to 45-E\n",
    "c.45 to 50-D\n",
    "d.50 to 60-C\n",
    "e.60 to 80-B\n",
    "f.Above 80-A\n",
    "Ask user to enter marks and print the corresponding grade"
   ]
  },
  {
   "cell_type": "code",
   "execution_count": 1,
   "id": "03d12bb6",
   "metadata": {},
   "outputs": [
    {
     "name": "stdout",
     "output_type": "stream",
     "text": [
      "enter marks of student:80\n",
      "B grade\n"
     ]
    }
   ],
   "source": [
    "marks = float(input('enter marks of student:'))\n",
    "if (marks>80.00 and marks<=100.00):\n",
    "    print(\"A grade\")\n",
    "elif (marks>60.00 and marks<=80.00):\n",
    "    print(\"B grade\")\n",
    "elif (marks>50.00 and marks<=60.00):\n",
    "    print(\"C grade\")\n",
    "elif (marks>45.00 and marks<=50.00):\n",
    "    print(\"D grade\")\n",
    "elif (marks>=25.00 and marks<=45.00):\n",
    "    print(\"E grade\")\n",
    "elif (marks<25.00):\n",
    "    print(\"F grade\")\n",
    "else:\n",
    "    print(\"Wrong marks\")"
   ]
  }
 ],
 "metadata": {
  "kernelspec": {
   "display_name": "Python 3 (ipykernel)",
   "language": "python",
   "name": "python3"
  },
  "language_info": {
   "codemirror_mode": {
    "name": "ipython",
    "version": 3
   },
   "file_extension": ".py",
   "mimetype": "text/x-python",
   "name": "python",
   "nbconvert_exporter": "python",
   "pygments_lexer": "ipython3",
   "version": "3.9.12"
  }
 },
 "nbformat": 4,
 "nbformat_minor": 5
}
