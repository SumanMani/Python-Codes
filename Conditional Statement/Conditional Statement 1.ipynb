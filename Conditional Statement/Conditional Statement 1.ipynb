{
 "cells": [
  {
   "cell_type": "markdown",
   "id": "a05b712e",
   "metadata": {},
   "source": [
    " Q1.Write a programme to check whether a given number is even or odd ?"
   ]
  },
  {
   "cell_type": "code",
   "execution_count": 2,
   "id": "cf28c53e",
   "metadata": {},
   "outputs": [
    {
     "name": "stdout",
     "output_type": "stream",
     "text": [
      "Enter any number = 11\n",
      "Entered number is odd\n"
     ]
    }
   ],
   "source": [
    "n=int(input('Enter any number = '))\n",
    "if n%2==0:\n",
    "    print('Entered number is even')\n",
    "else :\n",
    "    print('Entered number is odd')\n",
    "    "
   ]
  },
  {
   "cell_type": "markdown",
   "id": "0e3d1dd3",
   "metadata": {},
   "source": [
    "  Q2.Write a program to check whether an alphabet is a vowel or consonant ?"
   ]
  },
  {
   "cell_type": "code",
   "execution_count": 5,
   "id": "fb7f82a0",
   "metadata": {},
   "outputs": [
    {
     "name": "stdout",
     "output_type": "stream",
     "text": [
      "Enter any alphabet = s\n",
      "Entered alphabet is a consonent\n"
     ]
    }
   ],
   "source": [
    "c=input('Enter any alphabet = ')\n",
    "if c=='a' or c=='e' or c=='i' or c=='o' or c=='u' or c=='A' or c=='E' or c=='I' or c=='O' or c=='U':\n",
    "    Print('Entered alphabet is a vowel')\n",
    "else :\n",
    "    print('Entered alphabet is a consonent')"
   ]
  },
  {
   "cell_type": "markdown",
   "id": "95eeedab",
   "metadata": {},
   "source": [
    "  Q3.Write a program to check whether a person is elligible to vote or not ?"
   ]
  },
  {
   "cell_type": "code",
   "execution_count": 6,
   "id": "62184665",
   "metadata": {},
   "outputs": [
    {
     "name": "stdout",
     "output_type": "stream",
     "text": [
      "Enter age of the person : 18\n",
      "person is elligible to vote\n"
     ]
    }
   ],
   "source": [
    "age=int(input('Enter age of the person : '))\n",
    "if age>=18:\n",
    "    print('person is elligible to vote')\n",
    "else :\n",
    "    print('person is not elligible to vote')"
   ]
  },
  {
   "cell_type": "markdown",
   "id": "0d3eefee",
   "metadata": {},
   "source": [
    "  Q4.Write a program to check whether the entered number is positive,negative or zero ?"
   ]
  },
  {
   "cell_type": "code",
   "execution_count": 7,
   "id": "d452540c",
   "metadata": {},
   "outputs": [
    {
     "name": "stdout",
     "output_type": "stream",
     "text": [
      "Enter any number = -4\n",
      "Entered number is negative\n"
     ]
    }
   ],
   "source": [
    "n = int(input('Enter any number = '))\n",
    "if n>0:\n",
    "    print('Entered number is positive')\n",
    "elif n<0:\n",
    "    print('Entered number is negative')\n",
    "elif n==0:\n",
    "    print('Entered number is zero')\n",
    "else:\n",
    "    print('wrong input')"
   ]
  },
  {
   "cell_type": "markdown",
   "id": "35139fdc",
   "metadata": {},
   "source": [
    "  Q5.Write a program to check whether a given year is a leap year or not ?"
   ]
  },
  {
   "cell_type": "code",
   "execution_count": 8,
   "id": "73223b11",
   "metadata": {},
   "outputs": [
    {
     "name": "stdout",
     "output_type": "stream",
     "text": [
      "Enter any year = 1998\n",
      "Entered year is not a leap year\n"
     ]
    }
   ],
   "source": [
    "year = int(input('Enter any year = '))\n",
    "if year%4 == 0 :\n",
    "    print('Entered year is a leap year')\n",
    "else :\n",
    "    print('Entered year is not a leap year')"
   ]
  },
  {
   "cell_type": "markdown",
   "id": "805db692",
   "metadata": {},
   "source": [
    "  Q6.Write a program to check a triangle is equilateral, isosceles or scalene ?"
   ]
  },
  {
   "cell_type": "code",
   "execution_count": 2,
   "id": "f3c50af7",
   "metadata": {},
   "outputs": [
    {
     "name": "stdout",
     "output_type": "stream",
     "text": [
      "Enter length of side 1 : 4\n",
      "Enter length of side 2 : 6\n",
      "Enter length of side 3 : 8\n",
      "Triangle is Scalen\n"
     ]
    }
   ],
   "source": [
    "s1=int(input('Enter length of side 1 : '))\n",
    "s2=int(input('Enter length of side 2 : '))\n",
    "s3=int(input('Enter length of side 3 : '))\n",
    "if s1==s2==s3:\n",
    "    print('Triangle is Equilateral')\n",
    "elif s1==s2 or s2==s3 or s3==s1:\n",
    "    print('Triangle is Isosceles')\n",
    "else :\n",
    "    print('Triangle is Scalen')"
   ]
  },
  {
   "cell_type": "markdown",
   "id": "5bcea732",
   "metadata": {},
   "source": [
    "  Q7. Write a program to check whether after selling a product its profit or loss ?"
   ]
  },
  {
   "cell_type": "code",
   "execution_count": 4,
   "id": "f17a38f3",
   "metadata": {},
   "outputs": [
    {
     "name": "stdout",
     "output_type": "stream",
     "text": [
      "Enter cost price of product : 30\n",
      "Enter selling price of product : 29\n",
      "loss\n"
     ]
    }
   ],
   "source": [
    "cp=int(input('Enter cost price of product : '))\n",
    "sp=int(input('Enter selling price of product : '))\n",
    "if sp>cp:\n",
    "    print('profit')\n",
    "elif sp<cp:\n",
    "    print('loss')\n",
    "else:\n",
    "    print('No profit no loss')"
   ]
  }
 ],
 "metadata": {
  "kernelspec": {
   "display_name": "Python 3 (ipykernel)",
   "language": "python",
   "name": "python3"
  },
  "language_info": {
   "codemirror_mode": {
    "name": "ipython",
    "version": 3
   },
   "file_extension": ".py",
   "mimetype": "text/x-python",
   "name": "python",
   "nbconvert_exporter": "python",
   "pygments_lexer": "ipython3",
   "version": "3.9.12"
  }
 },
 "nbformat": 4,
 "nbformat_minor": 5
}
