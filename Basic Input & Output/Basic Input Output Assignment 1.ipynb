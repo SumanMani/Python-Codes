{
 "cells": [
  {
   "cell_type": "markdown",
   "id": "7c719d90",
   "metadata": {},
   "source": [
    "self introduction"
   ]
  },
  {
   "cell_type": "code",
   "execution_count": 1,
   "id": "c4b4f5b0",
   "metadata": {},
   "outputs": [
    {
     "name": "stdout",
     "output_type": "stream",
     "text": [
      "Hi Suman Mani Welcom To Python\n"
     ]
    }
   ],
   "source": [
    "print(\"Hi Suman Mani Welcom To Python\")"
   ]
  },
  {
   "cell_type": "markdown",
   "id": "72a02dda",
   "metadata": {},
   "source": [
    "Addition"
   ]
  },
  {
   "cell_type": "code",
   "execution_count": 2,
   "id": "b005909a",
   "metadata": {},
   "outputs": [
    {
     "name": "stdout",
     "output_type": "stream",
     "text": [
      "enter n1:6\n",
      "enter n1:8\n",
      "sum - 14\n"
     ]
    }
   ],
   "source": [
    "n1 = int(input(\"enter n1:\"))\n",
    "n2 = int(input(\"enter n1:\"))\n",
    "sum = n1+n2\n",
    "print(\"sum -\", sum)"
   ]
  },
  {
   "cell_type": "markdown",
   "id": "518ab4b1",
   "metadata": {},
   "source": [
    "Substraction"
   ]
  },
  {
   "cell_type": "code",
   "execution_count": 3,
   "id": "f95c4ef2",
   "metadata": {},
   "outputs": [
    {
     "name": "stdout",
     "output_type": "stream",
     "text": [
      "enter n1:8\n",
      "enter n1:3\n",
      "sub - 5\n"
     ]
    }
   ],
   "source": [
    "n1 = int(input(\"enter n1:\"))\n",
    "n2 = int(input(\"enter n1:\"))\n",
    "sub = n1-n2\n",
    "print(\"sub -\", sub)"
   ]
  },
  {
   "cell_type": "markdown",
   "id": "78bd26b8",
   "metadata": {},
   "source": [
    "Multiplication"
   ]
  },
  {
   "cell_type": "code",
   "execution_count": 4,
   "id": "c6d72b63",
   "metadata": {},
   "outputs": [
    {
     "name": "stdout",
     "output_type": "stream",
     "text": [
      "enter n1:5\n",
      "enter n2:3\n",
      "mul - 15\n"
     ]
    }
   ],
   "source": [
    "n1 = int(input(\"enter n1:\"))\n",
    "n2 = int(input(\"enter n2:\"))\n",
    "mul = n1*n2\n",
    "print(\"mul -\", mul)\n"
   ]
  },
  {
   "cell_type": "markdown",
   "id": "4619c053",
   "metadata": {},
   "source": [
    "Division"
   ]
  },
  {
   "cell_type": "code",
   "execution_count": 5,
   "id": "48b430ef",
   "metadata": {},
   "outputs": [
    {
     "name": "stdout",
     "output_type": "stream",
     "text": [
      "enter n1:8\n",
      "enter n2:5\n",
      "div - 1.6\n"
     ]
    }
   ],
   "source": [
    "n1 = int(input(\"enter n1:\"))\n",
    "n2 = int(input(\"enter n2:\"))\n",
    "div = n1/n2\n",
    "print(\"div -\", div)"
   ]
  },
  {
   "cell_type": "markdown",
   "id": "6f16dd62",
   "metadata": {},
   "source": [
    "Modulus"
   ]
  },
  {
   "cell_type": "code",
   "execution_count": 7,
   "id": "6222a6ac",
   "metadata": {},
   "outputs": [
    {
     "name": "stdout",
     "output_type": "stream",
     "text": [
      "enter n1:8\n",
      "enter n2:5\n",
      "rem - 3\n"
     ]
    }
   ],
   "source": [
    "n1 = int(input(\"enter n1:\"))\n",
    "n2 = int(input(\"enter n2:\"))\n",
    "rem = n1%n2\n",
    "print(\"rem -\", rem)"
   ]
  },
  {
   "cell_type": "markdown",
   "id": "b3791e7e",
   "metadata": {},
   "source": [
    "Exponent"
   ]
  },
  {
   "cell_type": "code",
   "execution_count": 9,
   "id": "b9476cc5",
   "metadata": {},
   "outputs": [
    {
     "name": "stdout",
     "output_type": "stream",
     "text": [
      "enter n1:2\n",
      "enter n2:3\n",
      "exp - 8\n"
     ]
    }
   ],
   "source": [
    "n1 = int(input(\"enter n1:\"))\n",
    "n2 = int(input(\"enter n2:\"))\n",
    "exp = n1**n2\n",
    "print(\"exp -\", exp)"
   ]
  }
 ],
 "metadata": {
  "kernelspec": {
   "display_name": "Python 3 (ipykernel)",
   "language": "python",
   "name": "python3"
  },
  "language_info": {
   "codemirror_mode": {
    "name": "ipython",
    "version": 3
   },
   "file_extension": ".py",
   "mimetype": "text/x-python",
   "name": "python",
   "nbconvert_exporter": "python",
   "pygments_lexer": "ipython3",
   "version": "3.9.12"
  }
 },
 "nbformat": 4,
 "nbformat_minor": 5
}
