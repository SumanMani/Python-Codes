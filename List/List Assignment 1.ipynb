{
 "cells": [
  {
   "cell_type": "markdown",
   "id": "579c0740",
   "metadata": {},
   "source": [
    "  Q1. Calculate square of all numbers between 0-10 using list comprehension."
   ]
  },
  {
   "cell_type": "code",
   "execution_count": 1,
   "id": "cc681c0b",
   "metadata": {},
   "outputs": [
    {
     "name": "stdout",
     "output_type": "stream",
     "text": [
      "[0, 1, 4, 9, 16, 25, 36, 49, 64, 81, 100]\n"
     ]
    }
   ],
   "source": [
    "s=[i**2 for i in range (11)]\n",
    "i=0\n",
    "print(s)\n",
    "i+=1"
   ]
  },
  {
   "cell_type": "markdown",
   "id": "64ae0a2d",
   "metadata": {},
   "source": [
    " Q2. Multiply whole list by 10."
   ]
  },
  {
   "cell_type": "code",
   "execution_count": 2,
   "id": "184837d9",
   "metadata": {},
   "outputs": [
    {
     "name": "stdout",
     "output_type": "stream",
     "text": [
      "Multiplication of all items = 240\n"
     ]
    }
   ],
   "source": [
    "a=[1,2,3,4]\n",
    "i=0\n",
    "mul=10\n",
    "while i<len(a):\n",
    "    mul*=a[i]\n",
    "    i+=1\n",
    "print('Multiplication of all items =',mul)    "
   ]
  },
  {
   "cell_type": "markdown",
   "id": "457c1dda",
   "metadata": {},
   "source": [
    " Q3.Extract numbers from a string using list comprehension."
   ]
  },
  {
   "cell_type": "code",
   "execution_count": 3,
   "id": "af578c2d",
   "metadata": {},
   "outputs": [
    {
     "name": "stdout",
     "output_type": "stream",
     "text": [
      "Enter your string = 123456789456\n",
      "['1', '2', '3', '4', '5', '6', '7', '8', '9', '4', '5', '6']\n"
     ]
    }
   ],
   "source": [
    "n=input('Enter your string = ')\n",
    "m=[i for i in n]\n",
    "print(m)"
   ]
  },
  {
   "cell_type": "markdown",
   "id": "52ac2e28",
   "metadata": {},
   "source": [
    "  Q4.Write the program to remove the duplicate element of the list."
   ]
  },
  {
   "cell_type": "code",
   "execution_count": 4,
   "id": "02e2cf08",
   "metadata": {},
   "outputs": [
    {
     "name": "stdout",
     "output_type": "stream",
     "text": [
      "Enter your list = 124578986532\n",
      "Entered list :  ['1', '2', '4', '5', '7', '8', '9', '8', '6', '5', '3', '2']\n",
      "Remove Duplicate ['1', '2', '4', '5', '7', '8', '9', '8', '6', '5', '3', '2']\n"
     ]
    }
   ],
   "source": [
    "n=input('Enter your list = ')\n",
    "m=[i for i in n]\n",
    "print('Entered list : ',m)\n",
    "l1=[]\n",
    "for i in n:\n",
    "    l1.append(i)\n",
    "print('Remove Duplicate',l1)    "
   ]
  },
  {
   "cell_type": "markdown",
   "id": "6b9b6d72",
   "metadata": {},
   "source": [
    " Q5.Write the program to find the lists consist of at least one common element."
   ]
  },
  {
   "cell_type": "code",
   "execution_count": 5,
   "id": "b488a50f",
   "metadata": {},
   "outputs": [
    {
     "name": "stdout",
     "output_type": "stream",
     "text": [
      "Enter list 1 : 01235\n",
      "Enter list 2 : 67890\n",
      "True\n",
      "Common Elements :  ['0']\n"
     ]
    }
   ],
   "source": [
    "l1=input('Enter list 1 : ')\n",
    "l2=input('Enter list 2 : ')\n",
    "result=False\n",
    "l3=[]\n",
    "for i in l1:\n",
    "    for j in l2:\n",
    "        if i==j:\n",
    "            result=True\n",
    "            l3.append(i)\n",
    "print(result)\n",
    "print('Common Elements : ',l3)"
   ]
  }
 ],
 "metadata": {
  "kernelspec": {
   "display_name": "Python 3 (ipykernel)",
   "language": "python",
   "name": "python3"
  },
  "language_info": {
   "codemirror_mode": {
    "name": "ipython",
    "version": 3
   },
   "file_extension": ".py",
   "mimetype": "text/x-python",
   "name": "python",
   "nbconvert_exporter": "python",
   "pygments_lexer": "ipython3",
   "version": "3.9.12"
  }
 },
 "nbformat": 4,
 "nbformat_minor": 5
}
