{
 "cells": [
  {
   "cell_type": "markdown",
   "id": "2cd81bf3",
   "metadata": {},
   "source": [
    "Program to copy a list"
   ]
  },
  {
   "cell_type": "code",
   "execution_count": 1,
   "id": "ce4a4c6a",
   "metadata": {},
   "outputs": [
    {
     "name": "stdout",
     "output_type": "stream",
     "text": [
      "enter list items:654\n",
      "copied list: ['6', '5', '4']\n"
     ]
    }
   ],
   "source": [
    "n = list(input('enter list items:'))\n",
    "m = n.copy()\n",
    "print('copied list:', m)"
   ]
  },
  {
   "cell_type": "markdown",
   "id": "a4038058",
   "metadata": {},
   "source": [
    "Program to find second smallest number in list"
   ]
  },
  {
   "cell_type": "code",
   "execution_count": 4,
   "id": "1052dc13",
   "metadata": {},
   "outputs": [
    {
     "name": "stdout",
     "output_type": "stream",
     "text": [
      "Enter list elements separated by space:2 3 4 5 6\n",
      "[2, 3, 4, 5, 6]\n",
      "second smallest element: 3\n"
     ]
    }
   ],
   "source": [
    "lst = input('Enter list elements separated by space:')\n",
    "n = lst.split()\n",
    "for i in range(len(n)):\n",
    "    n[i] = int(n[i])\n",
    "print(n)\n",
    "m = sorted(list(set(n)))\n",
    "print(\"second smallest element:\", m[1])"
   ]
  },
  {
   "cell_type": "markdown",
   "id": "e26a8a32",
   "metadata": {},
   "source": [
    "Program to find second largest number in list"
   ]
  },
  {
   "cell_type": "code",
   "execution_count": 5,
   "id": "677dd02e",
   "metadata": {},
   "outputs": [
    {
     "name": "stdout",
     "output_type": "stream",
     "text": [
      "Enter list elements separated by space:4 5 8 \n",
      "[4, 5, 8]\n",
      "second largest element: 5\n"
     ]
    }
   ],
   "source": [
    "lst = input('Enter list elements separated by space:')\n",
    "n = lst.split()\n",
    "for i in range(len(n)):\n",
    "    n[i] = int(n[i])\n",
    "print(n)\n",
    "m = sorted(list(set(n)))\n",
    "print(\"second largest element:\", m[-2])"
   ]
  },
  {
   "cell_type": "markdown",
   "id": "ac0eebd9",
   "metadata": {},
   "source": [
    "Program to get unique values from list"
   ]
  },
  {
   "cell_type": "code",
   "execution_count": 6,
   "id": "26a67130",
   "metadata": {},
   "outputs": [
    {
     "name": "stdout",
     "output_type": "stream",
     "text": [
      "Enter list elements separated by space:2 5 8 \n",
      "['2', '5', '8']\n",
      "unique values of list: ['5', '2', '8']\n"
     ]
    }
   ],
   "source": [
    "lst = input('Enter list elements separated by space:')\n",
    "n = lst.split()\n",
    "print(n)\n",
    "m = list(set(n))\n",
    "print(\"unique values of list:\", m)"
   ]
  },
  {
   "cell_type": "markdown",
   "id": "cd1ef9ca",
   "metadata": {},
   "source": [
    "Program to find frequency of elements in a list"
   ]
  },
  {
   "cell_type": "code",
   "execution_count": 7,
   "id": "16d4b0eb",
   "metadata": {},
   "outputs": [
    {
     "name": "stdout",
     "output_type": "stream",
     "text": [
      "Enter list elements:4 5 6 7 8 9\n",
      "{'4': 1, '5': 1, '6': 1, '7': 1, '8': 1, '9': 1}\n"
     ]
    }
   ],
   "source": [
    "lst = input('Enter list elements:')\n",
    "l1 = lst.split()\n",
    "l2 = l1\n",
    "c=[0]*len(l2)\n",
    "i,j = 0,0\n",
    "my = dict()\n",
    "for i in range(len(l2)):\n",
    "    for j in range(len(l1)):\n",
    "        if l2[i]==l1[j]:\n",
    "            c[i]+=1\n",
    "    my[l2[i]]=c[i]\n",
    "print(my)"
   ]
  }
 ],
 "metadata": {
  "kernelspec": {
   "display_name": "Python 3 (ipykernel)",
   "language": "python",
   "name": "python3"
  },
  "language_info": {
   "codemirror_mode": {
    "name": "ipython",
    "version": 3
   },
   "file_extension": ".py",
   "mimetype": "text/x-python",
   "name": "python",
   "nbconvert_exporter": "python",
   "pygments_lexer": "ipython3",
   "version": "3.9.12"
  }
 },
 "nbformat": 4,
 "nbformat_minor": 5
}
