{
 "cells": [
  {
   "cell_type": "markdown",
   "id": "8db45617",
   "metadata": {},
   "source": [
    " Program to count the total numbers of digits in a number"
   ]
  },
  {
   "cell_type": "code",
   "execution_count": 1,
   "id": "b8113c95",
   "metadata": {},
   "outputs": [
    {
     "name": "stdout",
     "output_type": "stream",
     "text": [
      "Enter any number = 4\n",
      "Total count =  1\n"
     ]
    }
   ],
   "source": [
    "n= int(input('Enter any number = '))\n",
    "count=0\n",
    "while n!=0:\n",
    "    n//=10\n",
    "    count+=1\n",
    "print('Total count = ',count)"
   ]
  },
  {
   "cell_type": "markdown",
   "id": "d5ba0b9a",
   "metadata": {},
   "source": [
    "Program to print fibonacci series"
   ]
  },
  {
   "cell_type": "code",
   "execution_count": 2,
   "id": "6cf7d2c4",
   "metadata": {},
   "outputs": [
    {
     "name": "stdout",
     "output_type": "stream",
     "text": [
      "Enter Nth number = 8\n",
      "0 , 1 , 1 , 2 , 3 , 5 , 8 , 13 , "
     ]
    }
   ],
   "source": [
    "n=int(input('Enter Nth number = '))\n",
    "n1,n2=0,1\n",
    "count=0\n",
    "while count<n:\n",
    "    print(n1,end=\" , \")\n",
    "    fc=n1+n2\n",
    "    n1=n2\n",
    "    n2=fc\n",
    "    count+=1"
   ]
  },
  {
   "cell_type": "markdown",
   "id": "77a65890",
   "metadata": {},
   "source": [
    "Program to check whether the entered number is an armstrong number or not"
   ]
  },
  {
   "cell_type": "code",
   "execution_count": 3,
   "id": "a5e35b5c",
   "metadata": {},
   "outputs": [
    {
     "name": "stdout",
     "output_type": "stream",
     "text": [
      "Enter any 3 digit number = 458\n",
      "Entered number is not an Armstrong number\n"
     ]
    }
   ],
   "source": [
    "n=int(input('Enter any 3 digit number = '))\n",
    "count=n\n",
    "sum=0\n",
    "while count!=0:\n",
    "    rem=count%10\n",
    "    sum+= rem**3\n",
    "    count//=10\n",
    "if sum == n:\n",
    "    print('Entered number is an Armstrong number')\n",
    "else :\n",
    "    print('Entered number is not an Armstrong number')"
   ]
  },
  {
   "cell_type": "markdown",
   "id": "3a0df123",
   "metadata": {},
   "source": [
    "Program to check whether a number is Strong or not"
   ]
  },
  {
   "cell_type": "code",
   "execution_count": 4,
   "id": "ed7c5256",
   "metadata": {},
   "outputs": [
    {
     "name": "stdout",
     "output_type": "stream",
     "text": [
      "Enter a num = 158\n",
      "Entered number is not strong\n"
     ]
    }
   ],
   "source": [
    "n=int(input('Enter a num = '))\n",
    "temp=n\n",
    "sum1=0\n",
    "while n:\n",
    "    i=1\n",
    "    f=1\n",
    "    rem=n%10\n",
    "    while i<=rem:\n",
    "        f*=i\n",
    "        i+=1\n",
    "    sum1+=f\n",
    "    n//=10\n",
    "if sum1==temp:\n",
    "    print('Entered number is Strong')\n",
    "else :\n",
    "    print('Entered number is not strong')"
   ]
  }
 ],
 "metadata": {
  "kernelspec": {
   "display_name": "Python 3 (ipykernel)",
   "language": "python",
   "name": "python3"
  },
  "language_info": {
   "codemirror_mode": {
    "name": "ipython",
    "version": 3
   },
   "file_extension": ".py",
   "mimetype": "text/x-python",
   "name": "python",
   "nbconvert_exporter": "python",
   "pygments_lexer": "ipython3",
   "version": "3.9.12"
  }
 },
 "nbformat": 4,
 "nbformat_minor": 5
}
