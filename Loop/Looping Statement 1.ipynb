{
 "cells": [
  {
   "cell_type": "markdown",
   "id": "446b87e4",
   "metadata": {},
   "source": [
    "Break Statement\n",
    "  . The break is a keyword which is used to bring the programme control out of the loop\n",
    "  . Syntax break "
   ]
  },
  {
   "cell_type": "code",
   "execution_count": 1,
   "id": "43da3b36",
   "metadata": {},
   "outputs": [
    {
     "name": "stdout",
     "output_type": "stream",
     "text": [
      "0\n",
      "1\n",
      "2\n",
      "3\n",
      "4\n"
     ]
    }
   ],
   "source": [
    "#break statement\n",
    "for i in range(10):\n",
    "    if i==5:\n",
    "        break\n",
    "    else:\n",
    "        print(i)"
   ]
  },
  {
   "cell_type": "code",
   "execution_count": 2,
   "id": "77b6bf3a",
   "metadata": {},
   "outputs": [
    {
     "name": "stdout",
     "output_type": "stream",
     "text": [
      "0\n",
      "1\n",
      "2\n",
      "3\n",
      "4\n",
      "5\n",
      "6\n",
      "7\n",
      "8\n",
      "9\n"
     ]
    }
   ],
   "source": [
    "#break statement\n",
    "for i in range(10):\n",
    "    if i==10:\n",
    "        break\n",
    "    else:\n",
    "        print(i)"
   ]
  },
  {
   "cell_type": "markdown",
   "id": "5435953d",
   "metadata": {},
   "source": [
    "Continuous Statement\n",
    "  . The continue statement is used to bring the programme control to the beginning of the loop,the continue statement skips the \n",
    "    remaining lines of code inside the loop and start with the next iteration\n",
    "    \n",
    "    . Syntax continue"
   ]
  },
  {
   "cell_type": "code",
   "execution_count": 3,
   "id": "cc5a2cb1",
   "metadata": {},
   "outputs": [
    {
     "name": "stdout",
     "output_type": "stream",
     "text": [
      "0\n",
      "1\n",
      "2\n",
      "3\n",
      "4\n",
      "6\n",
      "7\n",
      "8\n",
      "9\n"
     ]
    }
   ],
   "source": [
    "#Continue Statement \n",
    "for i in range(10):\n",
    "    if i==5:\n",
    "        continue\n",
    "    else:\n",
    "        print(i)"
   ]
  },
  {
   "cell_type": "code",
   "execution_count": 4,
   "id": "d80aa091",
   "metadata": {},
   "outputs": [
    {
     "name": "stdout",
     "output_type": "stream",
     "text": [
      "enter a num = 12\n",
      "cube of 1 \t:  1\n",
      "cube of 2 \t:  8\n",
      "cube of 3 \t:  27\n",
      "cube of 4 \t:  64\n",
      "cube of 5 \t:  125\n",
      "cube of 6 \t:  216\n",
      "cube of 7 \t:  343\n",
      "cube of 8 \t:  512\n",
      "cube of 9 \t:  729\n",
      "cube of 10 \t:  1000\n",
      "cube of 11 \t:  1331\n",
      "cube of 12 \t:  1728\n"
     ]
    }
   ],
   "source": [
    "#  programme to print the cube of all the number from 1 to n\n",
    "n=int(input(\"enter a num = \"))\n",
    "for i in range(n):\n",
    "    i+=1\n",
    "    print(\"cube of\",i,\"\\t: \",i**3)"
   ]
  }
 ],
 "metadata": {
  "kernelspec": {
   "display_name": "Python 3 (ipykernel)",
   "language": "python",
   "name": "python3"
  },
  "language_info": {
   "codemirror_mode": {
    "name": "ipython",
    "version": 3
   },
   "file_extension": ".py",
   "mimetype": "text/x-python",
   "name": "python",
   "nbconvert_exporter": "python",
   "pygments_lexer": "ipython3",
   "version": "3.9.12"
  }
 },
 "nbformat": 4,
 "nbformat_minor": 5
}
