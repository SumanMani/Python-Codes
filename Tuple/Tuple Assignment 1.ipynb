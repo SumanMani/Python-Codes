{
 "cells": [
  {
   "cell_type": "markdown",
   "id": "d08e181d",
   "metadata": {},
   "source": [
    "Program to create a tuple"
   ]
  },
  {
   "cell_type": "code",
   "execution_count": 2,
   "id": "04676ca7",
   "metadata": {},
   "outputs": [
    {
     "name": "stdout",
     "output_type": "stream",
     "text": [
      "Enter tuple elements:85257854\n",
      "('8', '5', '2', '5', '7', '8', '5', '4')\n",
      "<class 'tuple'>\n"
     ]
    }
   ],
   "source": [
    "a = tuple(input('Enter tuple elements:'))\n",
    "print(a)\n",
    "print(type(a))"
   ]
  },
  {
   "cell_type": "markdown",
   "id": "9c04c3ea",
   "metadata": {},
   "source": [
    "Program to create tuple with different data types"
   ]
  },
  {
   "cell_type": "code",
   "execution_count": 4,
   "id": "cf376002",
   "metadata": {},
   "outputs": [
    {
     "name": "stdout",
     "output_type": "stream",
     "text": [
      "('arsha', 8, 6.9, True, 2.8, 'maya', 5)\n",
      "<class 'tuple'>\n"
     ]
    }
   ],
   "source": [
    "t = (\"arsha\",8,6.9,True,2.8,'maya',5)\n",
    "print(t)\n",
    "print(type(t))"
   ]
  },
  {
   "cell_type": "markdown",
   "id": "a9db6627",
   "metadata": {},
   "source": [
    "Program to create tuple with numbers and print one item"
   ]
  },
  {
   "cell_type": "code",
   "execution_count": 5,
   "id": "08c6d036",
   "metadata": {},
   "outputs": [
    {
     "name": "stdout",
     "output_type": "stream",
     "text": [
      "Enter integers for tuple elements:58841551\n",
      "('5', '8', '8', '4', '1', '5', '5', '1')\n",
      "any one integer item in tuple: 4\n"
     ]
    }
   ],
   "source": [
    "a = tuple(input('Enter integers for tuple elements:'))\n",
    "print(a)\n",
    "print(\"any one integer item in tuple:\", int(a[3]))"
   ]
  },
  {
   "cell_type": "markdown",
   "id": "b3e6ec6b",
   "metadata": {},
   "source": [
    "Program to add an item in tuple"
   ]
  },
  {
   "cell_type": "code",
   "execution_count": 6,
   "id": "1d560805",
   "metadata": {},
   "outputs": [
    {
     "name": "stdout",
     "output_type": "stream",
     "text": [
      "(2, 3, 6, 7, 18, 17)\n"
     ]
    }
   ],
   "source": [
    "t = (2, 3, 6, 7, 18)\n",
    "t1 = t + (17,)\n",
    "print(t1)"
   ]
  },
  {
   "cell_type": "code",
   "execution_count": 7,
   "id": "a402bba7",
   "metadata": {},
   "outputs": [
    {
     "name": "stdout",
     "output_type": "stream",
     "text": [
      "[2, 3, 6, 7, 18]\n",
      "(2, 3, 6, 7, 18, 17)\n"
     ]
    }
   ],
   "source": [
    "t = (2, 3, 6, 7, 18)\n",
    "l1 = list(t)\n",
    "print(l1)\n",
    "l1.append(17)\n",
    "t1 = tuple(l1)\n",
    "print(t1)"
   ]
  },
  {
   "cell_type": "markdown",
   "id": "fa5b4394",
   "metadata": {},
   "source": [
    "Program to convert tuple to a string"
   ]
  },
  {
   "cell_type": "code",
   "execution_count": 8,
   "id": "785be644",
   "metadata": {},
   "outputs": [
    {
     "name": "stdout",
     "output_type": "stream",
     "text": [
      "Enter tuple elements:2665gfggv\n",
      "('2', '6', '6', '5', 'g', 'f', 'g', 'g', 'v')\n",
      "<class 'tuple'>\n",
      "('2', '6', '6', '5', 'g', 'f', 'g', 'g', 'v')\n",
      "<class 'str'>\n"
     ]
    }
   ],
   "source": [
    "t = tuple(input('Enter tuple elements:'))\n",
    "print(t)\n",
    "print(type(t))\n",
    "s = str(t)\n",
    "print(s)\n",
    "print(type(s))"
   ]
  },
  {
   "cell_type": "markdown",
   "id": "e1784b48",
   "metadata": {},
   "source": [
    "Program to get 4th element from first & last of a tuple"
   ]
  },
  {
   "cell_type": "code",
   "execution_count": 9,
   "id": "ce4295f4",
   "metadata": {},
   "outputs": [
    {
     "name": "stdout",
     "output_type": "stream",
     "text": [
      "Enter tuple elements:255462695956\n",
      "('2', '5', '5', '4', '6', '2', '6', '9', '5', '9', '5', '6')\n",
      "5th element from first: 6\n",
      "5th element from last: 9\n"
     ]
    }
   ],
   "source": [
    "t = tuple(input('Enter tuple elements:'))\n",
    "print(t)\n",
    "print('5th element from first:', t[4])\n",
    "print('5th element from last:', t[-5])"
   ]
  },
  {
   "cell_type": "code",
   "execution_count": null,
   "id": "5a396eb1",
   "metadata": {},
   "outputs": [],
   "source": []
  },
  {
   "cell_type": "code",
   "execution_count": null,
   "id": "771d0f3b",
   "metadata": {},
   "outputs": [],
   "source": []
  },
  {
   "cell_type": "code",
   "execution_count": null,
   "id": "251cd136",
   "metadata": {},
   "outputs": [],
   "source": []
  },
  {
   "cell_type": "code",
   "execution_count": null,
   "id": "63293eac",
   "metadata": {},
   "outputs": [],
   "source": []
  }
 ],
 "metadata": {
  "kernelspec": {
   "display_name": "Python 3 (ipykernel)",
   "language": "python",
   "name": "python3"
  },
  "language_info": {
   "codemirror_mode": {
    "name": "ipython",
    "version": 3
   },
   "file_extension": ".py",
   "mimetype": "text/x-python",
   "name": "python",
   "nbconvert_exporter": "python",
   "pygments_lexer": "ipython3",
   "version": "3.9.12"
  }
 },
 "nbformat": 4,
 "nbformat_minor": 5
}
