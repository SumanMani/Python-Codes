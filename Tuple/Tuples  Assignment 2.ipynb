{
 "cells": [
  {
   "cell_type": "markdown",
   "id": "4b46dd4f",
   "metadata": {},
   "source": [
    "Program to find the repeated items of a tuple"
   ]
  },
  {
   "cell_type": "code",
   "execution_count": 1,
   "id": "dd0cd38c",
   "metadata": {},
   "outputs": [
    {
     "name": "stdout",
     "output_type": "stream",
     "text": [
      "Enter tuple items: 1 5 2 7 4 9 5 2 3 0 6\n",
      "('1', '5', '2', '7', '4', '9', '5', '2', '3', '0', '6')\n",
      "Repeated elements are: \n",
      "('2', '5')\n"
     ]
    }
   ],
   "source": [
    "a=tuple(input('Enter tuple items: ').split())\n",
    "print(a)\n",
    "\n",
    "def tup(n):\n",
    "    m=[]\n",
    "    print('Repeated elements are: ')\n",
    "    for i in n:\n",
    "        if n.count(i)>1:\n",
    "            m.append(i)\n",
    "    b=set(m)\n",
    "    print(tuple(b))\n",
    "tup(a) "
   ]
  },
  {
   "cell_type": "markdown",
   "id": "226fc5ff",
   "metadata": {},
   "source": [
    "Program to check whether an element exists within a tuple"
   ]
  },
  {
   "cell_type": "code",
   "execution_count": 2,
   "id": "995c09e1",
   "metadata": {},
   "outputs": [
    {
     "name": "stdout",
     "output_type": "stream",
     "text": [
      "Enter items of tuple: 12 23 34 56 78 98 74 56 32 10\n",
      "('12', '23', '34', '56', '78', '98', '74', '56', '32', '10')\n",
      "Enter element you want to check: 32\n",
      "32 Exist in tuple\n"
     ]
    }
   ],
   "source": [
    "n=tuple(input('Enter items of tuple: ').split())\n",
    "print(n)\n",
    "m=input('Enter element you want to check: ')\n",
    "def exist(x,y):\n",
    "    if y in x:\n",
    "        print(y,'Exist in tuple')\n",
    "    else:\n",
    "        print(y,'Does not exist')\n",
    "exist(n,m)"
   ]
  },
  {
   "cell_type": "markdown",
   "id": "e8db2d2e",
   "metadata": {},
   "source": [
    "Program to convert a list to a tuple"
   ]
  },
  {
   "cell_type": "code",
   "execution_count": 3,
   "id": "0d764c53",
   "metadata": {},
   "outputs": [
    {
     "name": "stdout",
     "output_type": "stream",
     "text": [
      "Enter List elements: 1 8 65 28 93\n",
      "['1', '8', '65', '28', '93']\n",
      "<class 'list'>\n",
      "('1', '8', '65', '28', '93')\n",
      "<class 'tuple'>\n"
     ]
    }
   ],
   "source": [
    "n=list(input('Enter List elements: ').split())\n",
    "def convert(x):\n",
    "    print(x)\n",
    "    print(type(x))\n",
    "    m=tuple(x)\n",
    "    print(m)\n",
    "    print(type(m))\n",
    "convert(n)"
   ]
  },
  {
   "cell_type": "markdown",
   "id": "5d031fd5",
   "metadata": {},
   "source": [
    "Program to remove an item from a tuple"
   ]
  },
  {
   "cell_type": "code",
   "execution_count": 6,
   "id": "5b255264",
   "metadata": {},
   "outputs": [
    {
     "name": "stdout",
     "output_type": "stream",
     "text": [
      "Enter items in tuple: 22 33 55 44 66 98 75 14\n",
      "('22', '33', '55', '44', '66', '98', '75', '14')\n",
      "Enter element you want to remove: 98\n",
      "('22', '33', '55', '44', '66', '75', '14')\n"
     ]
    }
   ],
   "source": [
    "n=tuple(input('Enter items in tuple: ').split())\n",
    "print(n)\n",
    "m=input('Enter element you want to remove: ')\n",
    "def rem(x,o):\n",
    "    y=list(x)\n",
    "    y.remove(o)\n",
    "    x=tuple(y)\n",
    "    print(x)\n",
    "\n",
    "rem(n,m)"
   ]
  },
  {
   "cell_type": "markdown",
   "id": "94e50231",
   "metadata": {},
   "source": [
    "Program to slice a tuple"
   ]
  },
  {
   "cell_type": "code",
   "execution_count": 8,
   "id": "dec0d3bc",
   "metadata": {},
   "outputs": [
    {
     "name": "stdout",
     "output_type": "stream",
     "text": [
      "Enter items in tuple: 45 75 65 85 95 15\n",
      "('45', '75', '65', '85', '95', '15')\n",
      "('65', '85', '95')\n"
     ]
    }
   ],
   "source": [
    "n=tuple(input('Enter items in tuple: ').split())\n",
    "print(n)\n",
    "print(n[2:5])"
   ]
  },
  {
   "cell_type": "markdown",
   "id": "ad158d02",
   "metadata": {},
   "source": [
    "Program to find the index of an item of a tuple"
   ]
  },
  {
   "cell_type": "code",
   "execution_count": 10,
   "id": "898d0d61",
   "metadata": {},
   "outputs": [
    {
     "name": "stdout",
     "output_type": "stream",
     "text": [
      "Enter items in tuple: Hi How Are You?\n",
      "('Hi', 'How', 'Are', 'You?')\n",
      "Enter element you want to index of: Are\n",
      "Index of Are is:  2\n"
     ]
    }
   ],
   "source": [
    "n=tuple(input('Enter items in tuple: ').split())\n",
    "print(n)\n",
    "m=input('Enter element you want to index of: ')\n",
    "def find(x,y):\n",
    "    if y in x:\n",
    "        a=x.index(y)\n",
    "        print('Index of',y,'is: ',a)\n",
    "    else:\n",
    "        print('No such element is present')\n",
    "find(n,m)"
   ]
  },
  {
   "cell_type": "markdown",
   "id": "d26fdd79",
   "metadata": {},
   "source": [
    "Program to print length of a tuple"
   ]
  },
  {
   "cell_type": "code",
   "execution_count": 12,
   "id": "89383a52",
   "metadata": {},
   "outputs": [
    {
     "name": "stdout",
     "output_type": "stream",
     "text": [
      "Enter items in tuple: 78 98 56 25 36 45 87 \n",
      "('78', '98', '56', '25', '36', '45', '87')\n",
      "Length of entered tuple is:  7\n"
     ]
    }
   ],
   "source": [
    "n=tuple(input('Enter items in tuple: ').split())\n",
    "print(n)\n",
    "print('Length of entered tuple is: ',len(n))"
   ]
  },
  {
   "cell_type": "markdown",
   "id": "66428d5c",
   "metadata": {},
   "source": [
    "Program to convert a tuple to a dictionary"
   ]
  },
  {
   "cell_type": "code",
   "execution_count": 13,
   "id": "c278ad62",
   "metadata": {},
   "outputs": [
    {
     "name": "stdout",
     "output_type": "stream",
     "text": [
      "((1, 'Aswin'), (2, 'Kamal'), (3, 'Adwin'))\n",
      "{1: 'Aswin', 2: 'Kamal', 3: 'Adwin'}\n",
      "<class 'dict'>\n"
     ]
    }
   ],
   "source": [
    "n=((1,'Aswin'),(2,'Kamal'),(3,'Adwin'))\n",
    "print(n)\n",
    "d=dict()\n",
    "for key,value in n:\n",
    "    d[key]=value\n",
    "print(d)\n",
    "print(type(d))"
   ]
  }
 ],
 "metadata": {
  "kernelspec": {
   "display_name": "Python 3 (ipykernel)",
   "language": "python",
   "name": "python3"
  },
  "language_info": {
   "codemirror_mode": {
    "name": "ipython",
    "version": 3
   },
   "file_extension": ".py",
   "mimetype": "text/x-python",
   "name": "python",
   "nbconvert_exporter": "python",
   "pygments_lexer": "ipython3",
   "version": "3.9.12"
  }
 },
 "nbformat": 4,
 "nbformat_minor": 5
}
