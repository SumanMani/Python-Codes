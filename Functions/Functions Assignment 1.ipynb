{
 "cells": [
  {
   "cell_type": "markdown",
   "id": "9c5d5785",
   "metadata": {},
   "source": [
    "Function to find the Max of three numbers"
   ]
  },
  {
   "cell_type": "code",
   "execution_count": 1,
   "id": "d5b151b6",
   "metadata": {},
   "outputs": [
    {
     "name": "stdout",
     "output_type": "stream",
     "text": [
      "Enter 1st number: 55\n",
      "Enter 2nd number: 65\n",
      "Enter 3rd number: 42\n",
      "Maximum of 3 numbers is:  65\n"
     ]
    }
   ],
   "source": [
    "def maximum(x,y,z):\n",
    "    print('Maximum of 3 numbers is: ',max(x,y,z))\n",
    "\n",
    "a=int(input('Enter 1st number: '))\n",
    "b=int(input('Enter 2nd number: '))\n",
    "c=int(input('Enter 3rd number: '))\n",
    "maximum(a,b,c)"
   ]
  },
  {
   "cell_type": "markdown",
   "id": "b081c155",
   "metadata": {},
   "source": [
    "Function to sum all the numbers in a list"
   ]
  },
  {
   "cell_type": "code",
   "execution_count": 2,
   "id": "894a7f54",
   "metadata": {},
   "outputs": [
    {
     "name": "stdout",
     "output_type": "stream",
     "text": [
      "Enter list elements: 12 24 4 9\n",
      "Sum of all numbers in list=  49\n"
     ]
    }
   ],
   "source": [
    "def add(n):\n",
    "    i=0\n",
    "    su=0\n",
    "    while i<len(n):\n",
    "        su+=n[i]\n",
    "        i+=1\n",
    "    print('Sum of all numbers in list= ',su)\n",
    "x=list(map(int,input('Enter list elements: ').split()))\n",
    "add(x)"
   ]
  },
  {
   "cell_type": "markdown",
   "id": "f275b810",
   "metadata": {},
   "source": [
    "Function to multiply all the numbers in a list"
   ]
  },
  {
   "cell_type": "code",
   "execution_count": 3,
   "id": "e1d6117d",
   "metadata": {},
   "outputs": [
    {
     "name": "stdout",
     "output_type": "stream",
     "text": [
      "Enter list elements: 2 4 6 8 7 9 5 3\n",
      "Multiplication of all numbers in list=  362880\n"
     ]
    }
   ],
   "source": [
    "def mul(n):\n",
    "    i=0\n",
    "    mu=1\n",
    "    while i<len(n):\n",
    "        mu*=n[i]\n",
    "        i+=1\n",
    "    print('Multiplication of all numbers in list= ',mu)\n",
    "\n",
    "x=list(map(int,input('Enter list elements: ').split()))\n",
    "mul(x)"
   ]
  },
  {
   "cell_type": "markdown",
   "id": "1221ca88",
   "metadata": {},
   "source": [
    "Function to reverse a string"
   ]
  },
  {
   "cell_type": "code",
   "execution_count": 4,
   "id": "97b7ff4b",
   "metadata": {},
   "outputs": [
    {
     "name": "stdout",
     "output_type": "stream",
     "text": [
      "Enter the string: Welcome to Python\n",
      "Reverse of the string is:  nohtyP ot emocleW\n"
     ]
    }
   ],
   "source": [
    "def st(x):\n",
    "    m=x[::-1]\n",
    "    print('Reverse of the string is: ',m)\n",
    "\n",
    "n=input('Enter the string: ')\n",
    "st(n)"
   ]
  },
  {
   "cell_type": "markdown",
   "id": "f5212f1b",
   "metadata": {},
   "source": [
    "Function to calculate the factorial of a number"
   ]
  },
  {
   "cell_type": "code",
   "execution_count": 6,
   "id": "a2b8269a",
   "metadata": {},
   "outputs": [
    {
     "name": "stdout",
     "output_type": "stream",
     "text": [
      "Enter any number: 6\n",
      "Factorial of 6 is:  720\n"
     ]
    }
   ],
   "source": [
    "def factorial(x):\n",
    "    i=1\n",
    "    fac=1\n",
    "    while i<=x:\n",
    "        fac*=i\n",
    "        i+=1\n",
    "    print('Factorial of',x,'is: ',fac)\n",
    "    \n",
    "n=int(input('Enter any number: '))\n",
    "factorial(n)"
   ]
  },
  {
   "cell_type": "markdown",
   "id": "a72d0370",
   "metadata": {},
   "source": [
    "Function that accepts a string and calculate the number of uppercase letters and lowercase letters"
   ]
  },
  {
   "cell_type": "code",
   "execution_count": 7,
   "id": "c776bccc",
   "metadata": {},
   "outputs": [
    {
     "name": "stdout",
     "output_type": "stream",
     "text": [
      "Enter the string: Welcome Python World\n",
      "Uppercase letters:  3\n",
      "Lowercase letters:  17\n"
     ]
    }
   ],
   "source": [
    "def upper_lower(x):\n",
    "    c1=0\n",
    "    c2=0\n",
    "    i=0\n",
    "    while i<len(x):\n",
    "        if x[i].isupper()==True:\n",
    "            c1+=1\n",
    "        else:\n",
    "            c2+=1\n",
    "        i+=1\n",
    "    print('Uppercase letters: ',c1)\n",
    "    print('Lowercase letters: ',c2)\n",
    "\n",
    "n=input('Enter the string: ')\n",
    "upper_lower(n)"
   ]
  },
  {
   "cell_type": "markdown",
   "id": "09943655",
   "metadata": {},
   "source": [
    "Function that takes a list and returns a new list with unique elements of the first list"
   ]
  },
  {
   "cell_type": "code",
   "execution_count": 8,
   "id": "16bc0433",
   "metadata": {},
   "outputs": [
    {
     "name": "stdout",
     "output_type": "stream",
     "text": [
      "Enter list elements: 1 4 7 8 9 5 6 2 3 0\n",
      "Entered list:  ['1', '4', '7', '8', '9', '5', '6', '2', '3', '0']\n",
      "Unique elements of list are:  ['1', '4', '7', '8', '9', '5', '6', '2', '3', '0']\n"
     ]
    }
   ],
   "source": [
    "def unique(x):\n",
    "    l1=[]\n",
    "    print('Entered list: ',x)\n",
    "    for i in x:\n",
    "        if i not in l1:\n",
    "            l1.append(i)\n",
    "    print('Unique elements of list are: ',l1)\n",
    "\n",
    "n=input('Enter list elements: ').split()\n",
    "unique(n)"
   ]
  }
 ],
 "metadata": {
  "kernelspec": {
   "display_name": "Python 3 (ipykernel)",
   "language": "python",
   "name": "python3"
  },
  "language_info": {
   "codemirror_mode": {
    "name": "ipython",
    "version": 3
   },
   "file_extension": ".py",
   "mimetype": "text/x-python",
   "name": "python",
   "nbconvert_exporter": "python",
   "pygments_lexer": "ipython3",
   "version": "3.9.12"
  }
 },
 "nbformat": 4,
 "nbformat_minor": 5
}
